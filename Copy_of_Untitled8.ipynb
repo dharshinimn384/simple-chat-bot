{
  "nbformat": 4,
  "nbformat_minor": 0,
  "metadata": {
    "colab": {
      "provenance": [],
      "authorship_tag": "ABX9TyOuzhbJQ5SN/rvsw508e7lY",
      "include_colab_link": true
    },
    "kernelspec": {
      "name": "python3",
      "display_name": "Python 3"
    },
    "language_info": {
      "name": "python"
    }
  },
  "cells": [
    {
      "cell_type": "markdown",
      "metadata": {
        "id": "view-in-github",
        "colab_type": "text"
      },
      "source": [
        "<a href=\"https://colab.research.google.com/github/dharshinimn384/d/blob/main/Copy_of_Untitled8.ipynb\" target=\"_parent\"><img src=\"https://colab.research.google.com/assets/colab-badge.svg\" alt=\"Open In Colab\"/></a>"
      ]
    },
    {
      "cell_type": "markdown",
      "source": [],
      "metadata": {
        "id": "ewlILRmdTjBf"
      }
    },
    {
      "cell_type": "code",
      "source": [
        "\n",
        "from random import randint"
      ],
      "metadata": {
        "id": "oKTnX6r7UjfW"
      },
      "execution_count": null,
      "outputs": []
    },
    {
      "cell_type": "code",
      "source": [
        "def greet_random():\n",
        "  greetings=[\"hi\",\"hey\",\"vanakam\",\"hello\",\"howdy\",\"yo\"]\n",
        "  return(greetings[randint(0,len(greetings))])\n",
        "greeting=greet_random()\n",
        "print(greeting)"
      ],
      "metadata": {
        "colab": {
          "base_uri": "https://localhost:8080/"
        },
        "id": "rxOs2QXYVHkO",
        "outputId": "174f46ef-3f97-4a03-a179-ff137c736978"
      },
      "execution_count": null,
      "outputs": [
        {
          "output_type": "stream",
          "name": "stdout",
          "text": [
            "yo\n"
          ]
        }
      ]
    },
    {
      "cell_type": "code",
      "source": [
        "def greet_random():\n",
        "  greeting=['hi','Hey','vanakkam','Hello','Howdy','yo','namasthae','Konnichiwa','annyeonghaseyo','Nǐ hǎo']\n",
        "  return(greeting[randint(0,len(greeting)-1)])\n",
        "greetings=greet_random()\n",
        "print(greetings)  "
      ],
      "metadata": {
        "colab": {
          "base_uri": "https://localhost:8080/"
        },
        "id": "kOORAis5VP5O",
        "outputId": "8ee02d2a-e4ed-4482-c4ec-b2d4a54183ed"
      },
      "execution_count": null,
      "outputs": [
        {
          "output_type": "stream",
          "name": "stdout",
          "text": [
            "namasthae\n"
          ]
        }
      ]
    },
    {
      "cell_type": "code",
      "source": [
        "quit_msg=['bye','quit','exit']\n",
        "print(greet_random(),',',\"I'm chatbot.can do simple calculations for you\")\n",
        "while True:\n",
        "  msg = input()\n",
        "  if msg in quit_msg:\n",
        "    break\n",
        "  elif \"add\" in msg:\n",
        "      split_msg=msg.split()\n",
        "      p1 = int(split_msg[1])\n",
        "      p2 = int(split_msg[2])\n",
        "      print(p1+p2)\n",
        "  elif \"sub\" in msg:\n",
        "      split_msg=msg.split()\n",
        "      p1 = int(split_msg[1])\n",
        "      p2 = int(split_msg[2])\n",
        "      print(p1-p2)\n",
        "  elif \"mul\" in msg:\n",
        "      split_msg=msg.split()\n",
        "      p1 = int(split_msg[1])\n",
        "      p2 = int(split_msg[2])\n",
        "      print(p1*p2)\n",
        "  elif \"div\" in msg:\n",
        "      split_msg=msg.split()\n",
        "      p1 = int(split_msg[1])\n",
        "      p2 = int(split_msg[2])\n",
        "      print(p1/p2)\n",
        "  elif \"square\" in msg:\n",
        "      split_msg=msg.split()\n",
        "      p1 = int(split_msg[1])\n",
        "      \n",
        "      print(p1*p1)\n",
        "          "
      ],
      "metadata": {
        "colab": {
          "base_uri": "https://localhost:8080/"
        },
        "id": "WBs3SXRUVggt",
        "outputId": "2dd9089a-f425-4ba2-c937-93bc9b538199"
      },
      "execution_count": null,
      "outputs": [
        {
          "name": "stdout",
          "output_type": "stream",
          "text": [
            "Konnichiwa , I'm chatbot.can do simple calculations for you\n",
            "square 2\n",
            "4\n",
            "quit\n"
          ]
        }
      ]
    },
    {
      "cell_type": "code",
      "source": [],
      "metadata": {
        "id": "E8ErtIxQWP6R"
      },
      "execution_count": null,
      "outputs": []
    }
  ]
}